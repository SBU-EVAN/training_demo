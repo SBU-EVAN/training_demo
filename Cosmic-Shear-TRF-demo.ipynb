{
 "cells": [
  {
   "cell_type": "markdown",
   "id": "3720a449",
   "metadata": {},
   "source": [
    "# Training a simple emulator for LSST-Y1 cosmic shear\n",
    "This notebook is intended to demostrate the process of training, testing, and using our emulator. We generated cosmic shear data vectors with only $A_s \\times 10^{9}$ and $\\Omega_{\\rm m}$ as our running parameters. We generated the training data using a fisher forcast on the full 3x2pt data vectors and neglecting unused parameters (only lens photo-$z$ parameters) and tempered the fisher matrix by a temperature $T=$ **DETERMINE WHAT TEMPERATURE WORKS.** \n",
    "\n",
    "\n",
    "The fiducial values are:\n",
    " - $\\Omega_m = 0.3$\n",
    " - $A_s \\times 10^{9} = 2.1$\n",
    " \n",
    "The remaining parameters are fixed at:\n",
    " - $n_s = 0.97$\n",
    " - $\\Omega_{\\rm b} = 0.048$\n",
    " - $H_0 = 69.0 \\,$ km s$^{-1}$ Mpc$^{-1}$\n",
    " - $\\Delta z_{\\rm S, LSST}^i = 0$\n",
    " - $IA_{1,1} = 0.5$\n",
    " - $IA_{1,2} = 0$\n",
    "\n",
    "This notebook is only requires numpy and pytorch as external dependencies. \n",
    "\n",
    "We will not demonstrate how to generate training data. Training data is completely dependent on the use case of the emulator and the software needed to get the data. For example, while we use cosmolike to generate the cosmic shear data vectors, CMB power spectra only need CAMB."
   ]
  },
  {
   "cell_type": "code",
   "execution_count": 1,
   "id": "f2feabd5",
   "metadata": {
    "scrolled": true
   },
   "outputs": [],
   "source": [
    "import numpy as np\n",
    "import torch\n",
    "import torch.nn as nn\n",
    "\n",
    "from projects.lsst_y1.cocoa_emu import cocoa_config                # reads a cobaya yaml file\n",
    "from projects.lsst_y1.cocoa_emu import nn_pca_emulator             # class for training, saving and load the emulator\n",
    "from projects.lsst_y1.cocoa_emu.nn_emulator import Affine, \\\n",
    "                                  Better_ResBlock # These are building blocks of the neural network"
   ]
  },
  {
   "cell_type": "markdown",
   "id": "3556551b",
   "metadata": {},
   "source": [
    "### Defining the model\n",
    "Here we need to construct the neural network model that we will train. For demonstration, we will use a ResMLP architecture with 3 hidden blocks of size **what size?**. In addition, we have linear layers that transform the input dimension to the internal dimension and the internal dimension to the data vector dimension, as well as a scaling layer at the end ($\\verb|Affine()|$). "
   ]
  },
  {
   "cell_type": "code",
   "execution_count": 2,
   "id": "41835712",
   "metadata": {
    "scrolled": true
   },
   "outputs": [],
   "source": [
    "in_dim=2           # input dimension\n",
    "int_dim_res = 64   # internal dimension\n",
    "out_dim = 780      # data vector dimension\n",
    "\n",
    "layers = []\n",
    "layers.append( nn.Linear(in_dim, int_dim_res)            )\n",
    "layers.append( Better_ResBlock(int_dim_res, int_dim_res) )\n",
    "layers.append( Better_ResBlock(int_dim_res, int_dim_res) )\n",
    "layers.append( Better_ResBlock(int_dim_res, int_dim_res) )\n",
    "layers.append( nn.Linear(int_dim_res,out_dim)            )\n",
    "layers.append( Affine()                                  )\n",
    "\n",
    "model = nn.Sequential(*layers)"
   ]
  },
  {
   "cell_type": "markdown",
   "id": "fb3fc51e",
   "metadata": {},
   "source": [
    "### Cocoa_config\n",
    "This reads a cocoa-style configuration file. It reads the .datafile, primarily to get the fiducial datavector and covariance matrix so that we can preprocess the training data, compute the likelihood/$\\chi^2$, and run chains."
   ]
  },
  {
   "cell_type": "code",
   "execution_count": 3,
   "id": "652cac5e",
   "metadata": {},
   "outputs": [
    {
     "name": "stdout",
     "output_type": "stream",
     "text": [
      "datafile read complete\n",
      "loaded config\n"
     ]
    }
   ],
   "source": [
    "configfile = \"projects/lsst_y1/demo_emulator.yaml\" # cobaya configuration\n",
    "config = cocoa_config(configfile)\n",
    "\n",
    "cov_inv = config.cov_inv_masked\n",
    "dv_fid  = config.dv_masked"
   ]
  },
  {
   "cell_type": "markdown",
   "id": "5275c8bd",
   "metadata": {},
   "source": [
    "### Loading the training and validation data\n",
    "We store these as .npy binaries"
   ]
  },
  {
   "cell_type": "code",
   "execution_count": 4,
   "id": "78963f60",
   "metadata": {},
   "outputs": [],
   "source": [
    "n = 25000 # the number of training points we want to use. Each file has 50k\n",
    "\n",
    "train_samples      = np.load(\"./projects/lsst_y1/training_data/demo_t64_samples_0.npy\")[:n]\n",
    "train_data_vectors = np.load(\"./projects/lsst_y1/training_data/demo_t64_data_vectors_0.npy\")[:n,:780]\n",
    "\n",
    "validation_samples      = np.load(\"./projects/lsst_y1/training_data/demo_t32_samples_0.npy\")[::20]\n",
    "validation_data_vectors = np.load(\"./projects/lsst_y1/training_data/demo_t32_data_vectors_0.npy\")[::20,:780]"
   ]
  },
  {
   "cell_type": "markdown",
   "id": "261379c5",
   "metadata": {},
   "source": [
    "### Data preprocessing\n",
    "The goal here is to simplify the problem that the neural network needs to solve. For cosmic shear, we just diagonalize and rescale the data basis and rescale the parameters. This does two things: moves all input and output data to be $\\mathcal{O}(1)$ and removes covariance in the prediction entries. If one does a fisher forcast on the relevant cosmological parameters, we can use the inverse to also diagonalize the input parameters."
   ]
  },
  {
   "cell_type": "code",
   "execution_count": 5,
   "id": "ebe904d2",
   "metadata": {},
   "outputs": [],
   "source": [
    "# get the mean and standard deviation of the training data\n",
    "parameters_mean = np.mean(train_samples,axis=0)\n",
    "parameters_stdev = np.std(train_samples,axis=0)\n",
    "\n",
    "# shift and rescale the parameters\n",
    "train_samples      = (train_samples      - parameters_mean) / parameters_stdev\n",
    "validation_samples = (validation_samples - parameters_mean) / parameters_stdev\n",
    "\n",
    "# diagonalize the data covariance and\n",
    "eigensys = np.linalg.eigh(config.cov[:780,:780])\n",
    "evals = eigensys[0]\n",
    "evecs = eigensys[1]\n",
    "\n",
    "# rotate to the diagonal basis\n",
    "train_data_vectors = np.transpose((np.linalg.inv(evecs) @ np.transpose(train_data_vectors - dv_fid)))\n",
    "validation_data_vectors = np.transpose((np.linalg.inv(evecs) @ np.transpose(validation_data_vectors - dv_fid)))\n",
    "\n",
    "# compute the diagonalized cov\n",
    "cov_inv_diag = np.diag(1/evals)\n",
    "dv_stdev = np.sqrt(evals)"
   ]
  },
  {
   "cell_type": "code",
   "execution_count": 6,
   "id": "46763e8e",
   "metadata": {},
   "outputs": [
    {
     "name": "stdout",
     "output_type": "stream",
     "text": [
      "Number of training points:   25000\n",
      "Number of validation points: 2500\n",
      "Begin training...\n",
      "epoch 0, loss=2.62971, validation loss=0.03468, lr=1.00E-04 (epoch time: 4.0)\n",
      "epoch 1, loss=0.02895, validation loss=0.00722, lr=1.00E-04 (epoch time: 4.0)\n",
      "epoch 2, loss=0.00978, validation loss=0.00538, lr=1.00E-04 (epoch time: 3.9)\n",
      "epoch 3, loss=0.00773, validation loss=0.00521, lr=1.00E-04 (epoch time: 3.9)\n",
      "epoch 4, loss=0.00720, validation loss=0.00513, lr=1.00E-04 (epoch time: 3.9)\n",
      "epoch 5, loss=0.00658, validation loss=0.00480, lr=1.00E-04 (epoch time: 3.9)\n",
      "epoch 6, loss=0.00630, validation loss=0.00520, lr=1.00E-04 (epoch time: 3.9)\n",
      "epoch 7, loss=0.00612, validation loss=0.00544, lr=1.00E-04 (epoch time: 3.9)\n",
      "epoch 8, loss=0.00629, validation loss=0.00422, lr=1.00E-04 (epoch time: 3.9)\n",
      "epoch 9, loss=0.00578, validation loss=0.00410, lr=1.00E-04 (epoch time: 3.9)\n",
      "epoch 10, loss=0.00569, validation loss=0.00420, lr=1.00E-04 (epoch time: 3.9)\n",
      "epoch 11, loss=0.00538, validation loss=0.00465, lr=1.00E-04 (epoch time: 3.9)\n",
      "epoch 12, loss=0.00532, validation loss=0.00535, lr=1.00E-04 (epoch time: 3.9)\n",
      "epoch 13, loss=0.00517, validation loss=0.00395, lr=1.00E-04 (epoch time: 3.9)\n",
      "epoch 14, loss=0.00542, validation loss=0.00497, lr=1.00E-04 (epoch time: 3.9)\n",
      "epoch 15, loss=0.00506, validation loss=0.00395, lr=1.00E-04 (epoch time: 3.9)\n",
      "epoch 16, loss=0.00510, validation loss=0.00391, lr=1.00E-04 (epoch time: 3.9)\n",
      "epoch 17, loss=0.00549, validation loss=0.00697, lr=1.00E-04 (epoch time: 3.9)\n",
      "epoch 18, loss=0.00479, validation loss=0.00398, lr=1.00E-04 (epoch time: 3.9)\n",
      "epoch 19, loss=0.00497, validation loss=0.00401, lr=1.00E-04 (epoch time: 3.8)\n"
     ]
    }
   ],
   "source": [
    "##### TRAINING PROCESS #####\n",
    "print(\"Number of training points:  \", len(train_samples))\n",
    "print(\"Number of validation points:\", len(validation_samples))\n",
    "\n",
    "device = torch.device('cpu')\n",
    "\n",
    "# convert data to torch tensors\n",
    "TS = torch.as_tensor(train_samples,dtype=torch.float)\n",
    "TDV = torch.as_tensor(train_data_vectors,dtype=torch.float)\n",
    "VS = torch.as_tensor(validation_samples,dtype=torch.float)\n",
    "VDV = torch.as_tensor(validation_data_vectors,dtype=torch.float)\n",
    "\n",
    "# initalize the emulator\n",
    "emu = nn_pca_emulator(model,\n",
    "                        parameters_mean, parameters_stdev,\n",
    "                        dv_fid, dv_stdev, cov_inv_diag,\n",
    "                        evecs, device, reduce_lr=True,lr=1e-4,weight_decay=0)\n",
    "\n",
    "emu.train(TS, TDV, VS, VDV, batch_size=32,n_epochs=20)\n",
    "emu.save('./projects/lsst_y1/emulator_output/models/demo_model')"
   ]
  },
  {
   "cell_type": "markdown",
   "id": "47441ca7",
   "metadata": {},
   "source": [
    "# Using the model\n",
    "Now that we have a trained model, we can load the data using the 'load' function in the $\\verb|nn_emulator|$ class as follows."
   ]
  },
  {
   "cell_type": "code",
   "execution_count": 7,
   "id": "66ec1e63",
   "metadata": {},
   "outputs": [],
   "source": [
    "# first we need to 'recreate' the model\n",
    "in_dim=2           \n",
    "int_dim_res = 64   \n",
    "out_dim = 780     \n",
    "\n",
    "layers = []\n",
    "layers.append( nn.Linear(in_dim, int_dim_res)            )\n",
    "layers.append( Better_ResBlock(int_dim_res, int_dim_res) )\n",
    "layers.append( Better_ResBlock(int_dim_res, int_dim_res) )\n",
    "layers.append( Better_ResBlock(int_dim_res, int_dim_res) )\n",
    "layers.append( nn.Linear(int_dim_res,out_dim)            )\n",
    "layers.append( Affine()                                  )\n",
    "\n",
    "model = nn.Sequential(*layers)\n",
    "# recall this from above\n",
    "\n",
    "###\n",
    "device = torch.device('cpu')\n",
    "emu_cs = nn_pca_emulator(model, 0, 0, 0, 0, 0, 0, device=device)\n",
    "emu_cs.load('./projects/lsst_y1/emulator_output/models/demo_model',device=device)"
   ]
  },
  {
   "cell_type": "markdown",
   "id": "50d1437b",
   "metadata": {},
   "source": [
    "## Examining the model\n",
    "Now that we have a trained model, we can look at how well it performs. The first way is to look at the training and validation loss. The output above is not necessarily illuminating on its own. Thus the losses are saved in a file after training for future examination. We can plot this as below."
   ]
  },
  {
   "cell_type": "code",
   "execution_count": 8,
   "id": "e8700941",
   "metadata": {},
   "outputs": [],
   "source": [
    "import matplotlib\n",
    "import matplotlib.pyplot as plt\n",
    "%matplotlib inline"
   ]
  },
  {
   "cell_type": "code",
   "execution_count": 9,
   "id": "2d8080de",
   "metadata": {},
   "outputs": [
    {
     "data": {
      "text/plain": [
       "<matplotlib.legend.Legend at 0x7f3024883a10>"
      ]
     },
     "execution_count": 9,
     "metadata": {},
     "output_type": "execute_result"
    },
    {
     "data": {
      "image/png": "[encoded data removed]",
      "text/plain": [
       "<Figure size 432x288 with 1 Axes>"
      ]
     },
     "metadata": {
      "needs_background": "light"
     },
     "output_type": "display_data"
    }
   ],
   "source": [
    "losses = np.loadtxt('losses.txt')\n",
    "plt.plot(np.transpose(losses[0]), label='training loss')\n",
    "plt.plot(np.transpose(losses[1]), label='validation loss')\n",
    "plt.xlabel('epochs')\n",
    "plt.ylabel('Loss')\n",
    "plt.legend()"
   ]
  },
  {
   "cell_type": "markdown",
   "id": "f8f4a95d",
   "metadata": {},
   "source": [
    "We can see that there is no overfitting during training.\n",
    "\n",
    "Next we will also want to test the model on another independent dataset. We can load in a dataset and examing its $\\chi^2$ distribution over parameter space."
   ]
  },
  {
   "cell_type": "code",
   "execution_count": 10,
   "id": "82b1b83f",
   "metadata": {},
   "outputs": [],
   "source": [
    "def compute_chi2(params, datavector):\n",
    "    datavector_emu = emu_cs.predict(torch.Tensor(params))\n",
    "    diff = (datavector_emu - datavector)\n",
    "    return diff @ config.cov_inv_masked @ diff"
   ]
  },
  {
   "cell_type": "code",
   "execution_count": 11,
   "id": "da5498be",
   "metadata": {},
   "outputs": [],
   "source": [
    "# load a testing dataset\n",
    "test_samples      = np.load(\"./projects/lsst_y1/training_data/demo_t16_samples_0.npy\")[:]\n",
    "test_data_vectors = np.load(\"./projects/lsst_y1/training_data/demo_t16_data_vectors_0.npy\")[:,:780]\n",
    "\n",
    "# compute chi2 for all of these samples\n",
    "chi2_arr = np.zeros(len(test_samples))\n",
    "for i,sample in enumerate(test_samples):\n",
    "    chi2 = compute_chi2(sample,test_data_vectors[i])\n",
    "    chi2_arr[i] = chi2"
   ]
  },
  {
   "cell_type": "code",
   "execution_count": 12,
   "id": "a6d1f29d",
   "metadata": {},
   "outputs": [
    {
     "data": {
      "image/png": "[encoded data removed]",
      "text/plain": [
       "<Figure size 360x360 with 2 Axes>"
      ]
     },
     "metadata": {
      "needs_background": "light"
     },
     "output_type": "display_data"
    }
   ],
   "source": [
    "fig, ax = plt.subplots(1, 1, figsize=(5, 5),sharex=True,sharey=True)\n",
    "cmap = plt.cm.get_cmap('coolwarm')\n",
    "im0 = ax.scatter(test_samples[:,0],test_samples[:,1], \n",
    "                   c=chi2_arr, s=2, cmap=cmap, norm=matplotlib.colors.LogNorm(vmin=1e-3,vmax=1e-1))\n",
    "\n",
    "cbar_ax = fig.add_axes([0.3, 0.94, 0.4, 0.05])\n",
    "fig.colorbar(im0, cax=cbar_ax,orientation='horizontal')\n",
    "plt.subplots_adjust(left=0.07, bottom=0.15, right=0.95, top=0.8)\n",
    "\n",
    "\n",
    "ax.set_xlabel(r'$A_s\\times 10^9$')\n",
    "ax.set_ylabel(r'$\\Omega_\\mathrm{m}$')\n",
    "\n",
    "ax.set_xlim(1.8,2.4)\n",
    "ax.set_ylim(0.28,0.32)\n",
    "\n",
    "cbar_ax.set_xlabel(r'$\\Delta\\chi^2$',)\n",
    "ax.xaxis.set_minor_locator(matplotlib.ticker.AutoMinorLocator(4))\n",
    "cbar_ax.xaxis.set_label_coords(0.5,-1.5)"
   ]
  },
  {
   "cell_type": "markdown",
   "id": "ff1dcb90",
   "metadata": {},
   "source": [
    "# Running an MCMC\n",
    "After validating the emulator, we are ready to run an MCMC! I will run the MCMC using $\\verb|emcee|$ so that we can fix the number of steps performed by each walker. A difference from above is that we no long have an all-ones mask! We want the emulator to learn every piece of the data vector so that we do not need to retrain when choosing different scale cuts. We can pass a different configuration to the cocoa_config class to get the relevent data."
   ]
  },
  {
   "cell_type": "code",
   "execution_count": 13,
   "id": "2c6e4fb5",
   "metadata": {},
   "outputs": [],
   "source": [
    "import emcee\n",
    "import getdist\n",
    "from getdist import plots\n",
    "%matplotlib inline"
   ]
  },
  {
   "cell_type": "code",
   "execution_count": 29,
   "id": "a4ca66ed",
   "metadata": {},
   "outputs": [],
   "source": [
    "n_walkers = 5\n",
    "sampling_dim = 2\n",
    "n_steps = 2000\n",
    "n_burnin = int(n_steps/2)\n",
    "\n",
    "params_prior = np.array([[0.5,5.0],  # As_1e9\n",
    "                        [0.01,0.9]]) # Omega_m"
   ]
  },
  {
   "cell_type": "code",
   "execution_count": 23,
   "id": "995b2077",
   "metadata": {},
   "outputs": [],
   "source": [
    "def log_likelihood(theta):\n",
    "    datavector_emu = emu_cs.predict(torch.Tensor(theta))[config.mask[:780]]\n",
    "    diff = (datavector_emu - config.dv_masked)\n",
    "    return -0.5 * diff @ config.cov_inv_masked @ diff\n",
    "\n",
    "def log_prior(theta):\n",
    "    is_lower_than_min = bool(np.sum(theta < params_prior[:,0]))\n",
    "    is_higher_than_max = bool(np.sum(theta > params_prior[:,1]))\n",
    "    if is_lower_than_min or is_higher_than_max:\n",
    "        return -np.inf\n",
    "    else:\n",
    "        return 0.\n",
    "    \n",
    "def log_posterior(theta):\n",
    "    lkl   = log_likelihood(theta)\n",
    "    prior = log_prior(theta)\n",
    "    prob  = prior + lkl\n",
    "    return prob\n"
   ]
  },
  {
   "cell_type": "code",
   "execution_count": 25,
   "id": "699c2e4d",
   "metadata": {
    "scrolled": true
   },
   "outputs": [
    {
     "name": "stdout",
     "output_type": "stream",
     "text": [
      "datafile read complete\n",
      "loaded config\n"
     ]
    }
   ],
   "source": [
    "configfile = \"projects/lsst_y1/demo_mcmc.yaml\"\n",
    "config = cocoa_config(configfile)"
   ]
  },
  {
   "cell_type": "code",
   "execution_count": 26,
   "id": "0b9f0456",
   "metadata": {
    "scrolled": false
   },
   "outputs": [
    {
     "name": "stderr",
     "output_type": "stream",
     "text": [
      "100%|███████████████████████████████████████| 2000/2000 [01:37<00:00, 20.59it/s]"
     ]
    },
    {
     "name": "stdout",
     "output_type": "stream",
     "text": [
      "\n"
     ]
    },
    {
     "name": "stderr",
     "output_type": "stream",
     "text": [
      "\n"
     ]
    }
   ],
   "source": [
    "# create the initial position of the walkers\n",
    "pos0 = np.array([2.1,0.3]) + np.array([0.1,0.05])*np.random.normal(size=(n_walkers, sampling_dim))\n",
    "\n",
    "# run the sampler\n",
    "emu_sampler = emcee.EnsembleSampler(n_walkers, sampling_dim, log_posterior, pool=None)\n",
    "emu_sampler.run_mcmc(pos0, n_steps, progress=True)\n",
    "print() # to avoid the mess from printing emu_sampler"
   ]
  },
  {
   "cell_type": "code",
   "execution_count": 30,
   "id": "c9b1e348",
   "metadata": {},
   "outputs": [
    {
     "name": "stdout",
     "output_type": "stream",
     "text": [
      "Removed no burn in\n"
     ]
    },
    {
     "data": {
      "image/png": "[encoded data removed]",
      "text/plain": [
       "<Figure size 360x360 with 3 Axes>"
      ]
     },
     "metadata": {
      "needs_background": "light"
     },
     "output_type": "display_data"
    }
   ],
   "source": [
    "samples = emu_sampler.chain[:,n_burnin::1].reshape((-1,sampling_dim))\n",
    "\n",
    "gdsamples = getdist.mcsamples.MCSamples(samples=samples,\n",
    "                              names=['As_1e9','omegam'],\n",
    "                              labels=['1e9 A_s','\\Omega_\\mathrm{m}'])\n",
    "\n",
    "gdplot = plots.get_subplot_plotter(width_inch=5)\n",
    "gdplot.triangle_plot(gdsamples, [\"As_1e9\", \"omegam\"], filled=True)"
   ]
  },
  {
   "cell_type": "code",
   "execution_count": null,
   "id": "914e0290",
   "metadata": {},
   "outputs": [],
   "source": []
  },
  {
   "cell_type": "code",
   "execution_count": null,
   "id": "6395e946",
   "metadata": {},
   "outputs": [],
   "source": []
  }
 ],
 "metadata": {
  "kernelspec": {
   "display_name": "Python 3 (ipykernel)",
   "language": "python",
   "name": "python3"
  },
  "language_info": {
   "codemirror_mode": {
    "name": "ipython",
    "version": 3
   },
   "file_extension": ".py",
   "mimetype": "text/x-python",
   "name": "python",
   "nbconvert_exporter": "python",
   "pygments_lexer": "ipython3",
   "version": "3.7.12"
  }
 },
 "nbformat": 4,
 "nbformat_minor": 5
}
